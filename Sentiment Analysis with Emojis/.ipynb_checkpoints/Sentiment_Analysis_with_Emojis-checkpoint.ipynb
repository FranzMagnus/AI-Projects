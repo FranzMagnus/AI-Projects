{
 "cells": [
  {
   "cell_type": "code",
   "execution_count": 79,
   "metadata": {},
   "outputs": [],
   "source": [
    "import pandas as pd\n",
    "import emoji as emoji\n",
    "import numpy as np\n",
    "import tensorflow as tf\n",
    "import sklearn\n",
    "import nltk\n",
    "import re\n",
    "import string\n",
    "\n",
    "from nltk.stem.wordnet import WordNetLemmatizer\n",
    "from nltk.tokenize import word_tokenize\n",
    "from nltk.corpus import stopwords\n",
    "\n",
    "from sklearn.model_selection import train_test_split\n",
    "\n",
    "\n",
    "from matplotlib import pyplot as plt\n",
    "\n",
    "import time\n",
    "\n",
    "pd.set_option(\"max_colwidth\", 1000)"
   ]
  },
  {
   "cell_type": "code",
   "execution_count": 80,
   "metadata": {},
   "outputs": [],
   "source": [
    "df = pd.read_csv('training_tweets.csv', encoding='utf-8')\n",
    "df.drop(df.columns[[0]],axis =1, inplace = True)\n",
    "training_data = df.iloc[:,0].values"
   ]
  },
  {
   "cell_type": "code",
   "execution_count": 81,
   "metadata": {},
   "outputs": [],
   "source": [
    "punctuation = string.punctuation + \"’\"\n",
    "stop_words = set(stopwords.words(\"english\"))\n",
    "url_pattern = r'https?://\\S+|www\\.\\S+'"
   ]
  },
  {
   "cell_type": "code",
   "execution_count": 82,
   "metadata": {},
   "outputs": [],
   "source": [
    "def clean(tweet):\n",
    "    tweet = tweet.lower()  \n",
    "    tweet = re.sub(url_pattern, \"\" , tweet)\n",
    "    tweet = re.sub(f\"[{re.escape(punctuation)}]\", \"\", tweet)\n",
    "    return tweet"
   ]
  },
  {
   "cell_type": "code",
   "execution_count": 83,
   "metadata": {},
   "outputs": [],
   "source": [
    "def remove_stopwords(tokens):\n",
    "    lemmatizer = WordNetLemmatizer()\n",
    "    tokens = [token for token in tokens if not token in stop_words]\n",
    "    tokens = [\"\" if token.isdigit() else token for token in tokens]\n",
    "    tokens = [lemmatizer.lemmatize(token) for token in tokens]\n",
    "    tokens = [token for token in tokens if len(token) > 1 or token in emoji.UNICODE_EMOJI['en']]\n",
    "    return tokens"
   ]
  },
  {
   "cell_type": "code",
   "execution_count": 84,
   "metadata": {},
   "outputs": [],
   "source": [
    "def preprocesse_tweets(x):\n",
    "    tokenized_tweets = [word_tokenize(clean(tweet)) for tweet in x]\n",
    "    tokenized_tweets = [remove_stopwords(tokens) for tokens in tokenized_tweets]\n",
    "    preprocessed_tweets = [\" \".join(tokens) for tokens in tokenized_tweets]\n",
    "    print(\"preprocessed\")\n",
    "    return preprocessed_tweets "
   ]
  },
  {
   "cell_type": "code",
   "execution_count": 85,
   "metadata": {},
   "outputs": [
    {
     "name": "stdout",
     "output_type": "stream",
     "text": [
      "preprocessed\n"
     ]
    }
   ],
   "source": [
    "preprocessed_tweets = preprocesse_tweets(training_data)"
   ]
  },
  {
   "cell_type": "markdown",
   "metadata": {},
   "source": [
    "- Anger: 😡;😤;😠\n",
    "- Anticipation: 👀;💭;💰\n",
    "- Disgust: 😖;😣;👎\n",
    "- Fear: 😨;😱;😰\n",
    "- Joy: ☺;😆;😂\n",
    "- Sadness: 😢;😭;💔\n",
    "- Surprise: ‼;❗;😱\n",
    "- Trust: 😗;💕;🌹\n",
    "- Neutral: ©;®;™"
   ]
  },
  {
   "cell_type": "code",
   "execution_count": 86,
   "metadata": {},
   "outputs": [],
   "source": [
    "def emotion_tweets(emotion):\n",
    "    e1 = \"\"\n",
    "    e2 = \"\"\n",
    "    e3 = \"\"\n",
    "    return_Tweets = []\n",
    "    if(emotion ==  \"Anger\"):\n",
    "        e1 = \"\\U0001F621\"\n",
    "        e2 = \"\\U0001F624\"\n",
    "        e3 = \"\\U0001F620\"\n",
    "    elif(emotion ==  \"Anticipation\"):\n",
    "        e1 = \"\\U0001F440\"\n",
    "        e2 = \"\\U0001F4AD\"\n",
    "        e3 = \"\\U0001F4B0\"\n",
    "    elif(emotion ==  \"Disgust\"):\n",
    "        e1 = \"\\U0001F616\"\n",
    "        e2 = \"\\U0001F623\"\n",
    "        e3 = \"\\U0001F44E\"\n",
    "    elif(emotion ==  \"Fear\"):\n",
    "        e1 = \"\\U0001F628\"\n",
    "        e2 = \"\\U0001F631\"\n",
    "        e3 = \"\\U0001F630\"\n",
    "    elif(emotion ==  \"Joy\"):\n",
    "        e1 = \"\\U0000263A\"\n",
    "        e2 = \"\\U0001F606\"\n",
    "        e3 = \"\\U0001F602\"\n",
    "    elif(emotion ==  \"Sadness\"):\n",
    "        e1 = \"\\U0001F622\"\n",
    "        e2 = \"\\U0001F62D\"\n",
    "        e3 = \"\\U0001F494\"\n",
    "    elif(emotion ==  \"Surprise\"):\n",
    "        e1 = \"\\U0000203C\"\n",
    "        e2 = \"\\U00002757\"\n",
    "        e3 = \"\\U0001F631\"\n",
    "    elif(emotion ==  \"Trust\"):\n",
    "        e1 = \"\\U0001F617\"\n",
    "        e2 = \"\\U0001F495\"\n",
    "        e3 = \"\\U0001F339\"\n",
    "    elif(emotion ==  \"Neutral\"):\n",
    "        e1 = \"\\U000000A9\"\n",
    "        e2 = \"\\U000000AE\"\n",
    "        e3 = \"\\U00002122\"\n",
    "    else:\n",
    "        print(\"Invalid Emotion\")\n",
    "    for x in preprocessed_tweets:\n",
    "        if e1 in x or e2 in x or e3 in x:\n",
    "            x = x.replace(e1, '')\n",
    "            x = x.replace(e2, '')\n",
    "            x = x.replace(e3, '')\n",
    "            return_Tweets.append(x)       \n",
    "    return return_Tweets    "
   ]
  },
  {
   "cell_type": "code",
   "execution_count": 87,
   "metadata": {},
   "outputs": [],
   "source": [
    "anger_tweets = emotion_tweets(\"Anger\")\n",
    "anticipation_tweets = emotion_tweets(\"Anticipation\")\n",
    "disgust_tweets = emotion_tweets(\"Disgust\")\n",
    "fear_tweets = emotion_tweets(\"Fear\")\n",
    "joy_tweets = emotion_tweets(\"Joy\")\n",
    "sadness_tweets = emotion_tweets(\"Sadness\")\n",
    "surprise_tweets = emotion_tweets(\"Surprise\")\n",
    "trust_tweets = emotion_tweets(\"Trust\")\n",
    "neutral_tweets = emotion_tweets(\"Neutral\")\n",
    "\n",
    "training_tweets=anger_tweets+anticipation_tweets+disgust_tweets+fear_tweets+joy_tweets+sadness_tweets+surprise_tweets+trust_tweets+neutral_tweets"
   ]
  },
  {
   "cell_type": "code",
   "execution_count": 116,
   "metadata": {},
   "outputs": [],
   "source": [
    "emotions = []\n",
    "for x in range(len(anger_tweets)):\n",
    "    emotions.append(0)\n",
    "for x in range(len(anticipation_tweets)):\n",
    "    emotions.append(1)\n",
    "for x in range(len(disgust_tweets)):\n",
    "    emotions.append(2)\n",
    "for x in range(len(fear_tweets)):\n",
    "    emotions.append(3)\n",
    "for x in range(len(joy_tweets)):\n",
    "    emotions.append(4)\n",
    "for x in range(len(sadness_tweets)):\n",
    "    emotions.append(5)\n",
    "for x in range(len(surprise_tweets)):\n",
    "    emotions.append(6)\n",
    "for x in range(len(trust_tweets)):\n",
    "    emotions.append(7)\n",
    "for x in range(len(neutral_tweets)):\n",
    "    emotions.append(8)"
   ]
  },
  {
   "cell_type": "code",
   "execution_count": 90,
   "metadata": {},
   "outputs": [],
   "source": [
    "import tensorflow_hub as hub\n",
    "\n",
    "# Run this code block only once as the download will take some time and embedding is very memory expensive!\n",
    "embed = hub.load(\"https://tfhub.dev/google/universal-sentence-encoder/4\")"
   ]
  },
  {
   "cell_type": "code",
   "execution_count": 117,
   "metadata": {},
   "outputs": [],
   "source": [
    "encoded_tweets = np.array(embed(training_tweets))"
   ]
  },
  {
   "cell_type": "code",
   "execution_count": 142,
   "metadata": {},
   "outputs": [],
   "source": [
    "model = tf.keras.models.Sequential()\n",
    "model.add(tf.keras.layers.Input(shape=512))\n",
    "model.add(tf.keras.layers.Dense(256, activation=tf.nn.relu))\n",
    "model.add(tf.keras.layers.Dense(128, activation=tf.nn.relu))\n",
    "model.add(tf.keras.layers.Dense(64, activation=tf.nn.relu))\n",
    "model.add(tf.keras.layers.Dense(9, activation=tf.nn.softmax))"
   ]
  },
  {
   "cell_type": "code",
   "execution_count": 143,
   "metadata": {},
   "outputs": [
    {
     "name": "stderr",
     "output_type": "stream",
     "text": [
      "C:\\Users\\franz\\AppData\\Local\\Packages\\PythonSoftwareFoundation.Python.3.8_qbz5n2kfra8p0\\LocalCache\\local-packages\\Python38\\site-packages\\keras\\optimizer_v2\\adam.py:105: UserWarning: The `lr` argument is deprecated, use `learning_rate` instead.\n",
      "  super(Adam, self).__init__(name, **kwargs)\n"
     ]
    }
   ],
   "source": [
    "optimizer = tf.keras.optimizers.Adam(lr=0.00005)\n",
    "\n",
    "model.compile(loss='sparse_categorical_crossentropy',\n",
    "              optimizer=optimizer,\n",
    "              metrics=['accuracy'])"
   ]
  },
  {
   "cell_type": "code",
   "execution_count": 144,
   "metadata": {},
   "outputs": [],
   "source": [
    "X_train, X_test, y_train, y_test = train_test_split(encoded_tweets, np.asarray(emotions), shuffle=True , test_size=0.2)"
   ]
  },
  {
   "cell_type": "code",
   "execution_count": 145,
   "metadata": {},
   "outputs": [
    {
     "name": "stdout",
     "output_type": "stream",
     "text": [
      "Epoch 1/20\n",
      "7411/7411 [==============================] - 9s 1ms/step - loss: 1.3864 - accuracy: 0.5215\n",
      "Epoch 2/20\n",
      "7411/7411 [==============================] - 8s 1ms/step - loss: 1.2451 - accuracy: 0.5702\n",
      "Epoch 3/20\n",
      "7411/7411 [==============================] - 9s 1ms/step - loss: 1.1834 - accuracy: 0.5970\n",
      "Epoch 4/20\n",
      "7411/7411 [==============================] - 9s 1ms/step - loss: 1.1427 - accuracy: 0.6138\n",
      "Epoch 5/20\n",
      "7411/7411 [==============================] - 9s 1ms/step - loss: 1.1119 - accuracy: 0.6245\n",
      "Epoch 6/20\n",
      "7411/7411 [==============================] - 9s 1ms/step - loss: 1.0867 - accuracy: 0.6320\n",
      "Epoch 7/20\n",
      "7411/7411 [==============================] - 9s 1ms/step - loss: 1.0645 - accuracy: 0.6393\n",
      "Epoch 8/20\n",
      "7411/7411 [==============================] - 8s 1ms/step - loss: 1.0450 - accuracy: 0.6461\n",
      "Epoch 9/20\n",
      "7411/7411 [==============================] - 8s 1ms/step - loss: 1.0272 - accuracy: 0.6525\n",
      "Epoch 10/20\n",
      "7411/7411 [==============================] - 8s 1ms/step - loss: 1.0114 - accuracy: 0.6582\n",
      "Epoch 11/20\n",
      "7411/7411 [==============================] - 8s 1ms/step - loss: 0.9962 - accuracy: 0.6638\n",
      "Epoch 12/20\n",
      "7411/7411 [==============================] - 8s 1ms/step - loss: 0.9823 - accuracy: 0.6693\n",
      "Epoch 13/20\n",
      "7411/7411 [==============================] - 8s 1ms/step - loss: 0.9693 - accuracy: 0.6725\n",
      "Epoch 14/20\n",
      "7411/7411 [==============================] - 8s 1ms/step - loss: 0.9564 - accuracy: 0.6782\n",
      "Epoch 15/20\n",
      "7411/7411 [==============================] - 8s 1ms/step - loss: 0.9452 - accuracy: 0.6820\n",
      "Epoch 16/20\n",
      "7411/7411 [==============================] - 8s 1ms/step - loss: 0.9343 - accuracy: 0.6850\n",
      "Epoch 17/20\n",
      "7411/7411 [==============================] - 8s 1ms/step - loss: 0.9241 - accuracy: 0.6891\n",
      "Epoch 18/20\n",
      "7411/7411 [==============================] - 8s 1ms/step - loss: 0.9141 - accuracy: 0.6922\n",
      "Epoch 19/20\n",
      "7411/7411 [==============================] - 8s 1ms/step - loss: 0.9053 - accuracy: 0.6951\n",
      "Epoch 20/20\n",
      "7411/7411 [==============================] - 8s 1ms/step - loss: 0.8960 - accuracy: 0.6981\n"
     ]
    },
    {
     "data": {
      "text/plain": [
       "<keras.callbacks.History at 0x20f7ab897c0>"
      ]
     },
     "execution_count": 145,
     "metadata": {},
     "output_type": "execute_result"
    }
   ],
   "source": [
    "model.fit(X_train, y_train, epochs=20)"
   ]
  },
  {
   "cell_type": "code",
   "execution_count": 146,
   "metadata": {},
   "outputs": [
    {
     "name": "stdout",
     "output_type": "stream",
     "text": [
      "1853/1853 [==============================] - 1s 667us/step - loss: 1.0441 - accuracy: 0.6500\n",
      "1.044101357460022\n",
      "0.6500244736671448\n"
     ]
    }
   ],
   "source": [
    "val_loss, val_acc = model.evaluate(X_test, y_test)\n",
    "print(val_loss)\n",
    "print(val_acc)"
   ]
  },
  {
   "cell_type": "code",
   "execution_count": 147,
   "metadata": {},
   "outputs": [],
   "source": [
    "df_Corona_early = pd.read_csv('early-covid-tweets.csv', header = None, encoding='utf-8')\n",
    "df_Corona_late = pd.read_csv('late-covid-tweets.csv', header = None, encoding='utf-8')"
   ]
  },
  {
   "cell_type": "code",
   "execution_count": 148,
   "metadata": {},
   "outputs": [
    {
     "name": "stdout",
     "output_type": "stream",
     "text": [
      "preprocessed\n",
      "preprocessed\n"
     ]
    }
   ],
   "source": [
    "corona_early_data = df_Corona_early.iloc[:,0].values\n",
    "corona_early_tweets = preprocesse_tweets(corona_early_data)\n",
    "\n",
    "corona_late_data = df_Corona_late.iloc[:,0].values\n",
    "corona_late_tweets = preprocesse_tweets(corona_late_data)"
   ]
  },
  {
   "cell_type": "code",
   "execution_count": 149,
   "metadata": {},
   "outputs": [],
   "source": [
    "X_Corona_early = np.array(embed(corona_early_tweets))\n",
    "X_Corona_late = np.array(embed(corona_late_tweets))\n",
    "\n",
    "corona_early_em_predictions = model.predict(X_Corona_early)\n",
    "corona_late_em_predictions = model.predict(X_Corona_late)"
   ]
  },
  {
   "cell_type": "code",
   "execution_count": 150,
   "metadata": {},
   "outputs": [],
   "source": [
    "def num_to_emotion(list):\n",
    "    emotions = []\n",
    "    for x in list:\n",
    "        num = np.argmax(x)\n",
    "        if(num == 0):   \n",
    "            emotions.append(\"Anger\")\n",
    "        elif(num == 1):\n",
    "            emotions.append(\"Anticipation\")\n",
    "        elif(num == 2):\n",
    "            emotions.append(\"Disgust\")\n",
    "        elif(num == 3):\n",
    "            emotions.append(\"Fear\")\n",
    "        elif(num == 4):\n",
    "            emotions.append(\"Joy\")\n",
    "        elif(num == 5):\n",
    "            emotions.append(\"Sadness\")\n",
    "        elif(num == 6):\n",
    "            emotions.append(\"Surprise\")\n",
    "        elif(num == 7):\n",
    "            emotions.append(\"Trust\")\n",
    "        elif(num == 8):\n",
    "            emotions.append(\"Neutral\")\n",
    "    return emotions\n"
   ]
  },
  {
   "cell_type": "code",
   "execution_count": 151,
   "metadata": {},
   "outputs": [],
   "source": [
    "em_early = num_to_emotion(corona_early_em_predictions)\n",
    "em_late = num_to_emotion(corona_late_em_predictions)\n",
    "\n",
    "df_Corona_early = df_Corona_early.assign(emotions = em_early)\n",
    "df_Corona_late = df_Corona_late.assign(emotions = em_late)"
   ]
  },
  {
   "cell_type": "code",
   "execution_count": 152,
   "metadata": {},
   "outputs": [
    {
     "data": {
      "text/plain": [
       "Text(0.5, 1.0, 'Emotions Covid December 2020')"
      ]
     },
     "execution_count": 152,
     "metadata": {},
     "output_type": "execute_result"
    },
    {
     "data": {
      "image/png": "[encoded data removed]",
      "text/plain": [
       "<Figure size 1080x720 with 2 Axes>"
      ]
     },
     "metadata": {},
     "output_type": "display_data"
    }
   ],
   "source": [
    "values_early = df_Corona_early['emotions'].value_counts()\n",
    "values_late = df_Corona_late['emotions'].value_counts()\n",
    "\n",
    "colours = dict(zip(values_early.keys(), plt.cm.tab10.colors[:9]))\n",
    "fig, ax = plt.subplots(1,2, figsize=(15,10))\n",
    "\n",
    "ax[0].pie(values_early.tolist(),labels = values_early.keys(),colors=[colours[key] for key in values_early.keys()], explode = [0.02]*9, autopct=\"%1.1f%%\", pctdistance=1.1, labeldistance=1.2)\n",
    "ax[0].set_title('Emotions Covid March 2020', fontsize=16)\n",
    "\n",
    "ax[1].pie(values_late.tolist(),labels = values_late.keys(),colors=[colours[key] for key in values_late.keys()], explode = [0.02]*9, autopct=\"%1.1f%%\", pctdistance=1.1, labeldistance=1.2)\n",
    "ax[1].set_title('Emotions Covid December 2020', fontsize=16)"
   ]
  }
 ],
 "metadata": {
  "kernelspec": {
   "display_name": "Python 3",
   "language": "python",
   "name": "python3"
  },
  "language_info": {
   "codemirror_mode": {
    "name": "ipython",
    "version": 3
   },
   "file_extension": ".py",
   "mimetype": "text/x-python",
   "name": "python",
   "nbconvert_exporter": "python",
   "pygments_lexer": "ipython3",
   "version": "3.8.5"
  }
 },
 "nbformat": 4,
 "nbformat_minor": 4
}
