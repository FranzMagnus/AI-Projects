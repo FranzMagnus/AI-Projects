{
 "cells": [
  {
   "cell_type": "code",
   "execution_count": 1,
   "metadata": {},
   "outputs": [
    {
     "name": "stderr",
     "output_type": "stream",
     "text": [
      "[nltk_data] Downloading package stopwords to\n",
      "[nltk_data]     C:\\Users\\franz\\AppData\\Roaming\\nltk_data...\n",
      "[nltk_data]   Package stopwords is already up-to-date!\n",
      "[nltk_data] Downloading package punkt to\n",
      "[nltk_data]     C:\\Users\\franz\\AppData\\Roaming\\nltk_data...\n",
      "[nltk_data]   Package punkt is already up-to-date!\n",
      "[nltk_data] Downloading package wordnet to\n",
      "[nltk_data]     C:\\Users\\franz\\AppData\\Roaming\\nltk_data...\n",
      "[nltk_data]   Package wordnet is already up-to-date!\n"
     ]
    },
    {
     "data": {
      "text/plain": [
       "True"
      ]
     },
     "execution_count": 1,
     "metadata": {},
     "output_type": "execute_result"
    }
   ],
   "source": [
    "import pandas as pd\n",
    "import emoji as emoji\n",
    "import numpy as np\n",
    "import tensorflow as tf\n",
    "import sklearn\n",
    "import nltk\n",
    "import re\n",
    "import string\n",
    "\n",
    "from nltk.stem.wordnet import WordNetLemmatizer\n",
    "from nltk.tokenize import word_tokenize\n",
    "from nltk.corpus import stopwords\n",
    "\n",
    "from sklearn.model_selection import train_test_split\n",
    "\n",
    "\n",
    "from matplotlib import pyplot as plt\n",
    "\n",
    "import time\n",
    "\n",
    "pd.set_option(\"max_colwidth\", 1000)\n",
    "nltk.download('stopwords')\n",
    "nltk.download('punkt')\n",
    "nltk.download('wordnet')"
   ]
  },
  {
   "cell_type": "code",
   "execution_count": 18,
   "metadata": {},
   "outputs": [],
   "source": [
    "df = pd.read_csv('training_tweets.csv', encoding='utf-8')\n",
    "df.drop(df.columns[[0]],axis =1, inplace = True)\n",
    "training_data = df.iloc[:,0].values"
   ]
  },
  {
   "cell_type": "code",
   "execution_count": 19,
   "metadata": {},
   "outputs": [],
   "source": [
    "punctuation = string.punctuation + \"’\"\n",
    "stop_words = set(stopwords.words(\"english\"))\n",
    "url_pattern = r'https?://\\S+|www\\.\\S+'"
   ]
  },
  {
   "cell_type": "code",
   "execution_count": 20,
   "metadata": {},
   "outputs": [],
   "source": [
    "def clean(tweet):\n",
    "    tweet = tweet.lower()  \n",
    "    tweet = re.sub(url_pattern, \"\" , tweet)\n",
    "    tweet = re.sub(f\"[{re.escape(punctuation)}]\", \"\", tweet)\n",
    "    return tweet"
   ]
  },
  {
   "cell_type": "code",
   "execution_count": 21,
   "metadata": {},
   "outputs": [],
   "source": [
    "def remove_stopwords(tokens):\n",
    "    lemmatizer = WordNetLemmatizer()\n",
    "    tokens = [token for token in tokens if not token in stop_words]\n",
    "    tokens = [\"\" if token.isdigit() else token for token in tokens]\n",
    "    tokens = [lemmatizer.lemmatize(token) for token in tokens]\n",
    "    tokens = [token for token in tokens if len(token) > 1 or token in emoji.UNICODE_EMOJI['en']]\n",
    "    return tokens"
   ]
  },
  {
   "cell_type": "code",
   "execution_count": 22,
   "metadata": {},
   "outputs": [],
   "source": [
    "def preprocesse_tweets(x):\n",
    "    tokenized_tweets = [word_tokenize(clean(tweet)) for tweet in x]\n",
    "    tokenized_tweets = [remove_stopwords(tokens) for tokens in tokenized_tweets]\n",
    "    preprocessed_tweets = [\" \".join(tokens) for tokens in tokenized_tweets]\n",
    "    print(\"preprocessed\")\n",
    "    return preprocessed_tweets "
   ]
  },
  {
   "cell_type": "code",
   "execution_count": 23,
   "metadata": {},
   "outputs": [
    {
     "name": "stdout",
     "output_type": "stream",
     "text": [
      "preprocessed\n"
     ]
    }
   ],
   "source": [
    "preprocessed_tweets = preprocesse_tweets(training_data)"
   ]
  },
  {
   "cell_type": "markdown",
   "metadata": {},
   "source": [
    "- Anger: 😡;😤;😠\n",
    "- Anticipation: 👀;💭;💰\n",
    "- Disgust: 😖;😣;👎\n",
    "- Fear: 😨;😱;😰\n",
    "- Joy: ☺;😆;😂\n",
    "- Sadness: 😢;😭;💔\n",
    "- Surprise: ‼;❗;😱\n",
    "- Trust: 😗;💕;🌹\n",
    "- Neutral: ©;®;™"
   ]
  },
  {
   "cell_type": "code",
   "execution_count": 24,
   "metadata": {},
   "outputs": [],
   "source": [
    "def emotion_tweets(emotion):\n",
    "    e1 = \"\"\n",
    "    e2 = \"\"\n",
    "    e3 = \"\"\n",
    "    return_Tweets = []\n",
    "    if(emotion ==  \"Anger\"):\n",
    "        e1 = \"\\U0001F621\"\n",
    "        e2 = \"\\U0001F624\"\n",
    "        e3 = \"\\U0001F620\"\n",
    "    elif(emotion ==  \"Anticipation\"):\n",
    "        e1 = \"\\U0001F440\"\n",
    "        e2 = \"\\U0001F4AD\"\n",
    "        e3 = \"\\U0001F4B0\"\n",
    "    elif(emotion ==  \"Disgust\"):\n",
    "        e1 = \"\\U0001F616\"\n",
    "        e2 = \"\\U0001F623\"\n",
    "        e3 = \"\\U0001F44E\"\n",
    "    elif(emotion ==  \"Fear\"):\n",
    "        e1 = \"\\U0001F628\"\n",
    "        e2 = \"\\U0001F631\"\n",
    "        e3 = \"\\U0001F630\"\n",
    "    elif(emotion ==  \"Joy\"):\n",
    "        e1 = \"\\U0000263A\"\n",
    "        e2 = \"\\U0001F606\"\n",
    "        e3 = \"\\U0001F602\"\n",
    "    elif(emotion ==  \"Sadness\"):\n",
    "        e1 = \"\\U0001F622\"\n",
    "        e2 = \"\\U0001F62D\"\n",
    "        e3 = \"\\U0001F494\"\n",
    "    elif(emotion ==  \"Surprise\"):\n",
    "        e1 = \"\\U0000203C\"\n",
    "        e2 = \"\\U00002757\"\n",
    "        e3 = \"\\U0001F631\"\n",
    "    elif(emotion ==  \"Trust\"):\n",
    "        e1 = \"\\U0001F617\"\n",
    "        e2 = \"\\U0001F495\"\n",
    "        e3 = \"\\U0001F339\"\n",
    "    elif(emotion ==  \"Neutral\"):\n",
    "        e1 = \"\\U000000A9\"\n",
    "        e2 = \"\\U000000AE\"\n",
    "        e3 = \"\\U00002122\"\n",
    "    else:\n",
    "        print(\"Invalid Emotion\")\n",
    "    for x in preprocessed_tweets:\n",
    "        if e1 in x or e2 in x or e3 in x:\n",
    "            x = x.replace(e1, '')\n",
    "            x = x.replace(e2, '')\n",
    "            x = x.replace(e3, '')\n",
    "            return_Tweets.append(x)       \n",
    "    return return_Tweets    "
   ]
  },
  {
   "cell_type": "code",
   "execution_count": 25,
   "metadata": {},
   "outputs": [],
   "source": [
    "anger_tweets = emotion_tweets(\"Anger\")\n",
    "anticipation_tweets = emotion_tweets(\"Anticipation\")\n",
    "disgust_tweets = emotion_tweets(\"Disgust\")\n",
    "fear_tweets = emotion_tweets(\"Fear\")\n",
    "joy_tweets = emotion_tweets(\"Joy\")\n",
    "sadness_tweets = emotion_tweets(\"Sadness\")\n",
    "surprise_tweets = emotion_tweets(\"Surprise\")\n",
    "trust_tweets = emotion_tweets(\"Trust\")\n",
    "neutral_tweets = emotion_tweets(\"Neutral\")\n",
    "\n",
    "training_tweets=anger_tweets+anticipation_tweets+disgust_tweets+fear_tweets+joy_tweets+sadness_tweets+surprise_tweets+trust_tweets+neutral_tweets"
   ]
  },
  {
   "cell_type": "code",
   "execution_count": 26,
   "metadata": {},
   "outputs": [],
   "source": [
    "emotions = []\n",
    "for x in range(len(anger_tweets)):\n",
    "    emotions.append(\"Anger\")\n",
    "for x in range(len(anticipation_tweets)):\n",
    "    emotions.append(\"Anticipation\")\n",
    "for x in range(len(disgust_tweets)):\n",
    "    emotions.append(\"Disgust\")\n",
    "for x in range(len(fear_tweets)):\n",
    "    emotions.append(\"Fear\")\n",
    "for x in range(len(joy_tweets)):\n",
    "    emotions.append(\"Joy\")\n",
    "for x in range(len(sadness_tweets)):\n",
    "    emotions.append(\"Sadness\")\n",
    "for x in range(len(surprise_tweets)):\n",
    "    emotions.append(\"Surprise\")\n",
    "for x in range(len(trust_tweets)):\n",
    "    emotions.append(\"Trust\")\n",
    "for x in range(len(neutral_tweets)):\n",
    "    emotions.append(\"Neutral\")"
   ]
  },
  {
   "cell_type": "code",
   "execution_count": 27,
   "metadata": {},
   "outputs": [],
   "source": [
    "vectorizer =  CountVectorizer(token_pattern=r'[^\\s]+')\n",
    "X = vectorizer.fit_transform(training_tweets)\n",
    "X_train, X_test, y_train, y_test = train_test_split(X, emotions, test_size=0.2, random_state=0)"
   ]
  },
  {
   "cell_type": "code",
   "execution_count": 28,
   "metadata": {},
   "outputs": [
    {
     "name": "stdout",
     "output_type": "stream",
     "text": [
      "              precision    recall  f1-score   support\n",
      "\n",
      "       Anger       0.77      0.30      0.43      1369\n",
      "Anticipation       0.74      0.42      0.53      3137\n",
      "     Disgust       0.82      0.22      0.35       564\n",
      "        Fear       0.33      0.17      0.22      1398\n",
      "         Joy       0.70      0.90      0.78     28271\n",
      "     Neutral       0.89      0.68      0.77      2194\n",
      "     Sadness       0.69      0.60      0.64     13620\n",
      "    Surprise       0.65      0.46      0.54      3186\n",
      "       Trust       0.67      0.49      0.56      5548\n",
      "\n",
      "    accuracy                           0.70     59287\n",
      "   macro avg       0.69      0.47      0.54     59287\n",
      "weighted avg       0.69      0.70      0.68     59287\n",
      "\n",
      "0.695413834398772\n"
     ]
    }
   ],
   "source": [
    "emotion_clf = LogisticRegression(random_state=0, solver = 'saga', max_iter = 10000).fit(X_train, y_train)\n",
    "predictions = emotion_clf.predict(X_test)\n",
    "\n",
    "print(classification_report(y_test,predictions))\n",
    "print(accuracy_score(y_test, predictions))"
   ]
  },
  {
   "cell_type": "code",
   "execution_count": 29,
   "metadata": {},
   "outputs": [],
   "source": [
    "df_Corona_early = pd.read_csv('early-covid-tweets.csv', header = None, encoding='utf-8')\n",
    "df_Corona_late = pd.read_csv('late-covid-tweets.csv', header = None, encoding='utf-8')"
   ]
  },
  {
   "cell_type": "code",
   "execution_count": 30,
   "metadata": {},
   "outputs": [
    {
     "name": "stdout",
     "output_type": "stream",
     "text": [
      "preprocessed\n",
      "preprocessed\n"
     ]
    }
   ],
   "source": [
    "corona_early_data = df_Corona_early.iloc[:,0].values\n",
    "corona_early_tweets = preprocesse_tweets(corona_early_data)\n",
    "\n",
    "corona_late_data = df_Corona_late.iloc[:,0].values\n",
    "corona_late_tweets = preprocesse_tweets(corona_late_data)"
   ]
  },
  {
   "cell_type": "code",
   "execution_count": 31,
   "metadata": {},
   "outputs": [],
   "source": [
    "X_Corona_early = vectorizer.transform(corona_early_tweets)\n",
    "X_Corona_late = vectorizer.transform(corona_late_tweets)\n",
    "\n",
    "corona_early_em_predictions = emotion_clf.predict(X_Corona_early)\n",
    "corona_late_em_predictions = emotion_clf.predict(X_Corona_late)\n",
    "\n",
    "df_Corona_early = df_Corona_early.assign(emotions = corona_early_em_predictions)\n",
    "df_Corona_late = df_Corona_late.assign(emotions = corona_late_em_predictions)"
   ]
  },
  {
   "cell_type": "code",
   "execution_count": 32,
   "metadata": {},
   "outputs": [
    {
     "data": {
      "text/plain": [
       "Text(0.5, 1.0, 'Emotions Covid December 2020')"
      ]
     },
     "execution_count": 32,
     "metadata": {},
     "output_type": "execute_result"
    },
    {
     "data": {
      "image/png": "[encoded data removed]",
      "text/plain": [
       "<Figure size 1080x720 with 2 Axes>"
      ]
     },
     "metadata": {},
     "output_type": "display_data"
    }
   ],
   "source": [
    "values_early = df_Corona_early['emotions'].value_counts()\n",
    "values_late = df_Corona_late['emotions'].value_counts()\n",
    "\n",
    "colours = dict(zip(values_early.keys(), plt.cm.tab10.colors[:9]))\n",
    "fig, ax = plt.subplots(1,2, figsize=(15,10))\n",
    "\n",
    "ax[0].pie(values_early.tolist(),labels = values_early.keys(),colors=[colours[key] for key in values_early.keys()], explode = [0.02]*9, autopct=\"%1.1f%%\", pctdistance=1.1, labeldistance=1.2)\n",
    "ax[0].set_title('Emotions Covid March 2020', fontsize=16)\n",
    "\n",
    "ax[1].pie(values_late.tolist(),labels = values_late.keys(),colors=[colours[key] for key in values_late.keys()], explode = [0.02]*9, autopct=\"%1.1f%%\", pctdistance=1.1, labeldistance=1.2)\n",
    "ax[1].set_title('Emotions Covid December 2020', fontsize=16)"
   ]
  }
 ],
 "metadata": {
  "kernelspec": {
   "display_name": "Python 3",
   "language": "python",
   "name": "python3"
  },
  "language_info": {
   "codemirror_mode": {
    "name": "ipython",
    "version": 3
   },
   "file_extension": ".py",
   "mimetype": "text/x-python",
   "name": "python",
   "nbconvert_exporter": "python",
   "pygments_lexer": "ipython3",
   "version": "3.8.5"
  }
 },
 "nbformat": 4,
 "nbformat_minor": 4
}
