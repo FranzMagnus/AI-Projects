{
 "cells": [
  {
   "cell_type": "code",
   "execution_count": 60,
   "metadata": {},
   "outputs": [],
   "source": [
    "import requests\n",
    "from datetime import date\n",
    "import yfinance as yf\n",
    "headers = {'User-Agent': 'Franz Kleber (franzkleber99@gmail.com)'}"
   ]
  },
  {
   "cell_type": "code",
   "execution_count": 2,
   "metadata": {},
   "outputs": [],
   "source": [
    "def get_views(url):\n",
    "    response = requests.get(url,headers = headers)\n",
    "    return response.json()['items'][0]['views']"
   ]
  },
  {
   "cell_type": "code",
   "execution_count": 38,
   "metadata": {},
   "outputs": [],
   "source": [
    "def construct_url(company, time_span):\n",
    "    url = \"https://wikimedia.org/api/rest_v1/metrics/pageviews/per-article/en.wikipedia/all-access/all-agents/\"\n",
    "    url += str(company)\n",
    "    url += \"/monthly\"\n",
    "    url += time_span\n",
    "    return url"
   ]
  },
  {
   "cell_type": "code",
   "execution_count": 55,
   "metadata": {},
   "outputs": [],
   "source": [
    "def get_timespan(month = date.today().month, year = date.today().year):\n",
    "    pre_month = month-1\n",
    "    pre_year = year\n",
    "\n",
    "    if month == 1:\n",
    "        pre_month = 12\n",
    "        pre_year -= 1\n",
    "    \n",
    "    if month < 10 :\n",
    "        month = \"0\" + str(month)\n",
    "    \n",
    "    if pre_month < 10 :\n",
    "        pre_month = \"0\" + str(pre_month)\n",
    "\n",
    "    str_pre = str(pre_year) + str(pre_month) + \"01\"\n",
    "    str_today = str(year) + str(month) + \"01\"\n",
    "\n",
    "    return \"/\" + str_pre + \"/\" + str_today"
   ]
  },
  {
   "cell_type": "code",
   "execution_count": null,
   "metadata": {},
   "outputs": [],
   "source": []
  }
 ],
 "metadata": {
  "interpreter": {
   "hash": "caabf8fae5ed904cc27e3ebc51eb88691949aca60764d774c2060c7d59976ac0"
  },
  "kernelspec": {
   "display_name": "Python 3.8.10 64-bit (windows store)",
   "language": "python",
   "name": "python3"
  },
  "language_info": {
   "codemirror_mode": {
    "name": "ipython",
    "version": 3
   },
   "file_extension": ".py",
   "mimetype": "text/x-python",
   "name": "python",
   "nbconvert_exporter": "python",
   "pygments_lexer": "ipython3",
   "version": "3.8.10"
  },
  "orig_nbformat": 4
 },
 "nbformat": 4,
 "nbformat_minor": 2
}
